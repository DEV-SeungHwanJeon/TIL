{
 "cells": [
  {
   "cell_type": "code",
   "execution_count": 13,
   "id": "tribal-pressing",
   "metadata": {},
   "outputs": [
    {
     "name": "stdout",
     "output_type": "stream",
     "text": [
      "(60000, 784)\n",
      "(60000,)\n",
      "(10000, 784)\n",
      "(10000,)\n",
      "5\n",
      "(784,)\n",
      "(28, 28)\n"
     ]
    }
   ],
   "source": [
    "# 이미지 화면에 띄우기\n",
    "import sys, os\n",
    "sys.path.append('C:\\\\Users\\\\tmd43\\\\ssafy5\\\\TIL\\\\python\\\\underDL_Study\\\\underDL_1\\\\deeplearning_from_scratch-master')\n",
    "import numpy as np\n",
    "from dataset.mnist import load_mnist\n",
    "from PIL import Image\n",
    "\n",
    "def img_show(img):\n",
    "    pil_img = Image.fromarray(np.uint8(img))\n",
    "    pil_img.show()\n",
    "\n",
    "#load_mnist의 인수: normalize(0~1 정규화(전처리의 일종)), flatten(1차원 배열), one_hot_label(레이블 원-핫인코딩)\n",
    "(x_train, t_train), (x_test, t_test) = load_mnist(flatten=True, normalize=False)\n",
    "\n",
    "print(x_train.shape)\n",
    "print(t_train.shape)\n",
    "print(x_test.shape)\n",
    "print(t_test.shape)\n",
    "\n",
    "img = x_train[0]\n",
    "label = t_train[0]\n",
    "print(label)\n",
    "\n",
    "print(img.shape)\n",
    "img = img.reshape(28,28)\n",
    "print(img.shape)\n",
    "\n",
    "img_show(img)"
   ]
  },
  {
   "cell_type": "code",
   "execution_count": 22,
   "id": "deluxe-carrier",
   "metadata": {},
   "outputs": [],
   "source": [
    "# 함수 정의\n",
    "import pickle\n",
    "\n",
    "def softmax(a):\n",
    "    c = np.max(a)\n",
    "    exp_a = np.exp(a-c)\n",
    "    sum_exp_a = np.sum(exp_a)\n",
    "    y = exp_a / sum_exp_a\n",
    "    return y\n",
    "\n",
    "def sigmoid(x):\n",
    "    return 1 / (1 + np.exp(-x))\n",
    "\n",
    "def get_data():\n",
    "    (x_train, t_train), (x_test, t_test) = load_mnist(flatten=True, normalize=True, one_hot_label=False)\n",
    "    return x_test, t_test\n",
    "\n",
    "def init_network(): # sample_weight.pkl에 저장되어있는 사전에 학습되어있는 신경망의 가중치 매개변수를 읽어온다. 가중치와 편향 매개변수가 딕셔너리 변수로 저장되어있다.\n",
    "    with open(\"C:\\\\Users\\\\tmd43\\\\ssafy5\\\\TIL\\\\python\\\\underDL_Study\\\\underDL_1\\\\deeplearning_from_scratch-master\\\\ch3.신경망\\\\sample_weight.pkl\", 'rb') as f:\n",
    "        network = pickle.load(f)\n",
    "    return network\n",
    "\n",
    "def predict(network, x):\n",
    "    W1, W2, W3 = network['W1'], network['W2'], network['W3']\n",
    "    b1, b2, b3 = network['b1'], network['b2'], network['b3']\n",
    "    \n",
    "    a1 = np.dot(x, W1) + b1\n",
    "    z1 = sigmoid(a1)\n",
    "    a2 = np.dot(z1, W2) + b2\n",
    "    z2 = sigmoid(a2)\n",
    "    a3 = np.dot(z2, W3) + b3\n",
    "    y = softmax(a3)\n",
    "    \n",
    "    return y"
   ]
  },
  {
   "cell_type": "code",
   "execution_count": 24,
   "id": "pregnant-variable",
   "metadata": {},
   "outputs": [
    {
     "name": "stdout",
     "output_type": "stream",
     "text": [
      "Accuracy: 0.9352\n"
     ]
    }
   ],
   "source": [
    "# 정확도를 계산해보자.\n",
    "x, t = get_data()\n",
    "network = init_network()\n",
    "\n",
    "accuracy_cnt = 0\n",
    "for i in range(len(x)):\n",
    "    y = predict(network, x[i])\n",
    "    p = np.argmax(y)  # 반환되는 배열에서 확률이 가장 높은 원소의 인덱스를 구한다. \n",
    "    if p == t[i]:  #예측과 정답레이블이 일치하면 \n",
    "        accuracy_cnt += 1   # accuracy_cnt를 센다.\n",
    "\n",
    "print(f'Accuracy: {float(accuracy_cnt) / len(x)}')"
   ]
  },
  {
   "cell_type": "code",
   "execution_count": 27,
   "id": "computational-venezuela",
   "metadata": {},
   "outputs": [
    {
     "name": "stdout",
     "output_type": "stream",
     "text": [
      "데이터의 shape: (10000, 784)\n",
      "(784,) (784, 50) (50, 100) (100, 10)\n"
     ]
    }
   ],
   "source": [
    "# 데이터의 형상의 변화를 보기 위함\n",
    "x, _ = get_data()\n",
    "network = init_network()\n",
    "W1, W2, W3 = network['W1'], network['W2'], network['W3']\n",
    "\n",
    "print(f'데이터의 shape: {x.shape}')\n",
    "print(x[0].shape, W1.shape, W2.shape, W3.shape)"
   ]
  },
  {
   "cell_type": "code",
   "execution_count": 28,
   "id": "published-mainstream",
   "metadata": {},
   "outputs": [
    {
     "name": "stdout",
     "output_type": "stream",
     "text": [
      "Accuracy: 0.9352\n"
     ]
    }
   ],
   "source": [
    "# 100개씩 배치 구현\n",
    "x, t = get_data()\n",
    "network = init_network()\n",
    "\n",
    "batch_size = 100\n",
    "accuracy_cnt = 0\n",
    "\n",
    "for i in range(0, len(x), batch_size):  # 0~len(x)까지 100개씩 step\n",
    "    x_batch = x[i:i+batch_size]\n",
    "    y_batch = predict(network, x_batch)\n",
    "    p = np.argmax(y_batch, axis=1)  # 결과 y_batch의 shape가 100 x 10이므로 데이터의 갯수 100개를 기준으로 argmax가 아닌 레이블의 종류 수 10개를 기준(axis=1)으로 argmax를 실행한다.\n",
    "    accuracy_cnt += np.sum(p == t[i:i+batch_size]) # 예측한 결과와 실제 레이블을 비교하여 100개중 맞춘 갯수를 np.sum하여 accuracy_cnt에 더해준다.\n",
    "    \n",
    "print(f'Accuracy: {float(accuracy_cnt) / len(x)}')"
   ]
  }
 ],
 "metadata": {
  "kernelspec": {
   "display_name": "underDL",
   "language": "python",
   "name": "underdl"
  },
  "language_info": {
   "codemirror_mode": {
    "name": "ipython",
    "version": 3
   },
   "file_extension": ".py",
   "mimetype": "text/x-python",
   "name": "python",
   "nbconvert_exporter": "python",
   "pygments_lexer": "ipython3",
   "version": "3.8.7"
  },
  "toc": {
   "base_numbering": 1,
   "nav_menu": {},
   "number_sections": true,
   "sideBar": true,
   "skip_h1_title": false,
   "title_cell": "Table of Contents",
   "title_sidebar": "Contents",
   "toc_cell": false,
   "toc_position": {},
   "toc_section_display": true,
   "toc_window_display": false
  }
 },
 "nbformat": 4,
 "nbformat_minor": 5
}
