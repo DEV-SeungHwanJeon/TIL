{
  "nbformat": 4,
  "nbformat_minor": 0,
  "metadata": {
    "colab": {
      "name": "추천시스템예제.ipynb",
      "provenance": [],
      "collapsed_sections": []
    },
    "kernelspec": {
      "name": "python3",
      "display_name": "Python 3"
    }
  },
  "cells": [
    {
      "cell_type": "markdown",
      "metadata": {
        "id": "oIAnNuuX2EOr"
      },
      "source": [
        "# 추천 시스템 (Recommender Systems)\n",
        "\n",
        "* 추천 시스템은 크게 두가지로 구분 가능\n",
        "  * 컨텐츠 기반 필터링 (content-based filtering)\n",
        "  * 협업 필터링 (collaborative filtering)\n",
        "* 두가지를 조합한 hybrid 방식도 가능\n",
        "* 컨텐츠 기반 필터링은 지금까지 사용자의 이전 행동과 명시적 피드백을 통해 사용자가 좋아하는 것과 유사한 항목을 추천\n",
        "* 협업 필터링은 사용자와 항목간의 유사성을 동시에 사용해 추천"
      ]
    },
    {
      "cell_type": "markdown",
      "metadata": {
        "id": "pKQvtsfX2bRf"
      },
      "source": [
        "## Surprise\n",
        "\n",
        "* 추천 시스템 개발을 위한 라이브러리\n",
        "* 다양한 모델과 데이터 제공\n",
        "* scikit-learn과 유사한 사용 방법"
      ]
    },
    {
      "cell_type": "code",
      "metadata": {
        "id": "AvuLuP8J16Eb",
        "colab": {
          "base_uri": "https://localhost:8080/"
        },
        "outputId": "3bf00d18-41d8-4c42-ca3d-27642255e896"
      },
      "source": [
        "!pip install scikit-surprise"
      ],
      "execution_count": null,
      "outputs": [
        {
          "output_type": "stream",
          "text": [
            "Collecting scikit-surprise\n",
            "\u001b[?25l  Downloading https://files.pythonhosted.org/packages/97/37/5d334adaf5ddd65da99fc65f6507e0e4599d092ba048f4302fe8775619e8/scikit-surprise-1.1.1.tar.gz (11.8MB)\n",
            "\u001b[K     |████████████████████████████████| 11.8MB 336kB/s \n",
            "\u001b[?25hRequirement already satisfied: joblib>=0.11 in /usr/local/lib/python3.7/dist-packages (from scikit-surprise) (1.0.1)\n",
            "Requirement already satisfied: numpy>=1.11.2 in /usr/local/lib/python3.7/dist-packages (from scikit-surprise) (1.19.5)\n",
            "Requirement already satisfied: scipy>=1.0.0 in /usr/local/lib/python3.7/dist-packages (from scikit-surprise) (1.4.1)\n",
            "Requirement already satisfied: six>=1.10.0 in /usr/local/lib/python3.7/dist-packages (from scikit-surprise) (1.15.0)\n",
            "Building wheels for collected packages: scikit-surprise\n",
            "  Building wheel for scikit-surprise (setup.py) ... \u001b[?25l\u001b[?25hdone\n",
            "  Created wheel for scikit-surprise: filename=scikit_surprise-1.1.1-cp37-cp37m-linux_x86_64.whl size=1617569 sha256=9214dae8e78f152f1dfeb1a181768a79a4dfe2d0f9c38e6d77796090d987538c\n",
            "  Stored in directory: /root/.cache/pip/wheels/78/9c/3d/41b419c9d2aff5b6e2b4c0fc8d25c538202834058f9ed110d0\n",
            "Successfully built scikit-surprise\n",
            "Installing collected packages: scikit-surprise\n",
            "Successfully installed scikit-surprise-1.1.1\n"
          ],
          "name": "stdout"
        }
      ]
    },
    {
      "cell_type": "markdown",
      "metadata": {
        "id": "f8S2mbY13TPl"
      },
      "source": [
        "간단한 surprise 실습"
      ]
    },
    {
      "cell_type": "code",
      "metadata": {
        "id": "FXrDk0XH2vbx"
      },
      "source": [
        "from surprise import SVD\n",
        "from surprise import Dataset\n",
        "from surprise.model_selection import cross_validate"
      ],
      "execution_count": null,
      "outputs": []
    },
    {
      "cell_type": "code",
      "metadata": {
        "id": "M0SJB24k3ReQ",
        "colab": {
          "base_uri": "https://localhost:8080/"
        },
        "outputId": "f9a411a3-1679-4095-e17a-0437dfba689e"
      },
      "source": [
        "data = Dataset.load_builtin('ml-100k', prompt=False)"
      ],
      "execution_count": null,
      "outputs": [
        {
          "output_type": "stream",
          "text": [
            "Trying to download dataset from http://files.grouplens.org/datasets/movielens/ml-100k.zip...\n",
            "Done! Dataset ml-100k has been saved to /root/.surprise_data/ml-100k\n"
          ],
          "name": "stdout"
        }
      ]
    },
    {
      "cell_type": "code",
      "metadata": {
        "id": "IGZjsosZ3jwy",
        "colab": {
          "base_uri": "https://localhost:8080/"
        },
        "outputId": "5f602113-668b-4dca-bb02-1c9d45f4e322"
      },
      "source": [
        "data.raw_ratings[:10]\n",
        "# 유저, 아이템, 레이팅, 아이디"
      ],
      "execution_count": null,
      "outputs": [
        {
          "output_type": "execute_result",
          "data": {
            "text/plain": [
              "[('196', '242', 3.0, '881250949'),\n",
              " ('186', '302', 3.0, '891717742'),\n",
              " ('22', '377', 1.0, '878887116'),\n",
              " ('244', '51', 2.0, '880606923'),\n",
              " ('166', '346', 1.0, '886397596'),\n",
              " ('298', '474', 4.0, '884182806'),\n",
              " ('115', '265', 2.0, '881171488'),\n",
              " ('253', '465', 5.0, '891628467'),\n",
              " ('305', '451', 3.0, '886324817'),\n",
              " ('6', '86', 3.0, '883603013')]"
            ]
          },
          "metadata": {
            "tags": []
          },
          "execution_count": 4
        }
      ]
    },
    {
      "cell_type": "code",
      "metadata": {
        "id": "_sbU86zEXzeo"
      },
      "source": [
        "model = SVD()"
      ],
      "execution_count": null,
      "outputs": []
    },
    {
      "cell_type": "code",
      "metadata": {
        "id": "nAF9VVHt9qz9",
        "colab": {
          "base_uri": "https://localhost:8080/"
        },
        "outputId": "6b5394a0-c923-455f-d0af-ab6361bfde58"
      },
      "source": [
        "cross_validate(model, data, measures=['rmse', 'mae'], cv=5, verbose=True)"
      ],
      "execution_count": null,
      "outputs": [
        {
          "output_type": "stream",
          "text": [
            "Evaluating RMSE, MAE of algorithm SVD on 5 split(s).\n",
            "\n",
            "                  Fold 1  Fold 2  Fold 3  Fold 4  Fold 5  Mean    Std     \n",
            "RMSE (testset)    0.9393  0.9341  0.9387  0.9380  0.9364  0.9373  0.0019  \n",
            "MAE (testset)     0.7426  0.7357  0.7410  0.7369  0.7378  0.7388  0.0026  \n",
            "Fit time          4.87    4.82    4.81    4.84    4.89    4.85    0.03    \n",
            "Test time         0.20    0.23    0.25    0.17    0.25    0.22    0.03    \n"
          ],
          "name": "stdout"
        },
        {
          "output_type": "execute_result",
          "data": {
            "text/plain": [
              "{'fit_time': (4.8733556270599365,\n",
              "  4.815302610397339,\n",
              "  4.810945987701416,\n",
              "  4.839754343032837,\n",
              "  4.887210130691528),\n",
              " 'test_mae': array([0.74256413, 0.7357064 , 0.74095285, 0.73694099, 0.73784475]),\n",
              " 'test_rmse': array([0.93930123, 0.934078  , 0.93870256, 0.93799646, 0.93643257]),\n",
              " 'test_time': (0.20145940780639648,\n",
              "  0.22903108596801758,\n",
              "  0.25461554527282715,\n",
              "  0.16964125633239746,\n",
              "  0.24703216552734375)}"
            ]
          },
          "metadata": {
            "tags": []
          },
          "execution_count": 6
        }
      ]
    },
    {
      "cell_type": "markdown",
      "metadata": {
        "id": "tP5L65zvCRlv"
      },
      "source": [
        "## 컨텐츠 기반 필터링 (Content-based Filtering)\n",
        "\n",
        "* 컨텐츠 기반 필터링은 이전의 행동과 명시적 피드백을 통해 좋아하는 것과 유사한 항목을 추천\n",
        "  * ex) 내가 지금 까지 시청한 영화 목록과 다른 사용자의 시청 목록을 비교해 나와 비슷한 취향의 사용자가 시청한 영화를 추천\n",
        "* 유사도를 기반으로 추천\n",
        "* 컨텐츠 기반 필터링은 다음과 같은 장단점이 있다.\n",
        "  * 장점\n",
        "    * 많은 수의 사용자를 대상으로 쉽게 확장 가능\n",
        "    * 사용자가 관심을 갖지 않던 상품 추천 가능\n",
        "  * 단점\n",
        "    * 입력 특성을 직접 설계해야 하기 때문에 많은 도메인 지식이 필요\n",
        "    * 사용자의 기존 관심사항을 기반으로만 추천 가능"
      ]
    },
    {
      "cell_type": "code",
      "metadata": {
        "id": "M81hRKa9-9pK"
      },
      "source": [
        "import numpy as np"
      ],
      "execution_count": null,
      "outputs": []
    },
    {
      "cell_type": "markdown",
      "metadata": {
        "id": "0NyTt1u8LLCP"
      },
      "source": [
        "* 이진 벡터의 내적을 통해 다른 사용자들과의 유사도 구하기\n",
        "* 나와 가장 높은 유사도를 가진 사용자의 시청 목록을 추천"
      ]
    },
    {
      "cell_type": "code",
      "metadata": {
        "id": "-Y3Y_rNWH-zT"
      },
      "source": [
        "data = Dataset.load_builtin('ml-100k', prompt=False)\n",
        "raw_data = np.array(data.raw_ratings, dtype=int)"
      ],
      "execution_count": null,
      "outputs": []
    },
    {
      "cell_type": "code",
      "metadata": {
        "colab": {
          "base_uri": "https://localhost:8080/"
        },
        "id": "reh8tyObZs0X",
        "outputId": "4a82f0c2-6df7-4fab-a1eb-2f1b0e6459eb"
      },
      "source": [
        "raw_data"
      ],
      "execution_count": null,
      "outputs": [
        {
          "output_type": "execute_result",
          "data": {
            "text/plain": [
              "array([[      196,       242,         3, 881250949],\n",
              "       [      186,       302,         3, 891717742],\n",
              "       [       22,       377,         1, 878887116],\n",
              "       ...,\n",
              "       [      276,      1090,         1, 874795795],\n",
              "       [       13,       225,         2, 882399156],\n",
              "       [       12,       203,         3, 879959583]])"
            ]
          },
          "metadata": {
            "tags": []
          },
          "execution_count": 9
        }
      ]
    },
    {
      "cell_type": "code",
      "metadata": {
        "id": "z60YDlPOJzSr"
      },
      "source": [
        "# 0부터 시작하게 바꾸기\n",
        "raw_data[:,0] -= 1\n",
        "raw_data[:,1] -= 1"
      ],
      "execution_count": null,
      "outputs": []
    },
    {
      "cell_type": "code",
      "metadata": {
        "id": "4f20U_BFIbQA",
        "colab": {
          "base_uri": "https://localhost:8080/"
        },
        "outputId": "655a3fdc-8470-4798-dbcd-0f184f64a069"
      },
      "source": [
        "n_users = np.max(raw_data[:,0])\n",
        "n_movies = np.max(raw_data[:,1])\n",
        "shape = (n_users + 1, n_movies + 1)\n",
        "shape"
      ],
      "execution_count": null,
      "outputs": [
        {
          "output_type": "execute_result",
          "data": {
            "text/plain": [
              "(943, 1682)"
            ]
          },
          "metadata": {
            "tags": []
          },
          "execution_count": 11
        }
      ]
    },
    {
      "cell_type": "code",
      "metadata": {
        "id": "JT6HXk_8I4Zd",
        "colab": {
          "base_uri": "https://localhost:8080/"
        },
        "outputId": "61c4092b-a6b7-4a58-d01d-74ad5719a4eb"
      },
      "source": [
        "adj_matrix = np.ndarray(shape, dtype=int)\n",
        "for user_id, movie_id, rating, time in raw_data:\n",
        "  adj_matrix[user_id][movie_id] = 1.\n",
        "\n",
        "adj_matrix"
      ],
      "execution_count": null,
      "outputs": [
        {
          "output_type": "execute_result",
          "data": {
            "text/plain": [
              "array([[1, 1, 1, ..., 0, 0, 0],\n",
              "       [1, 0, 0, ..., 0, 0, 0],\n",
              "       [0, 0, 0, ..., 0, 0, 0],\n",
              "       ...,\n",
              "       [1, 0, 0, ..., 0, 0, 0],\n",
              "       [0, 0, 0, ..., 0, 0, 0],\n",
              "       [0, 1, 0, ..., 0, 0, 0]])"
            ]
          },
          "metadata": {
            "tags": []
          },
          "execution_count": 12
        }
      ]
    },
    {
      "cell_type": "code",
      "metadata": {
        "id": "bVShJje-Jn0x",
        "colab": {
          "base_uri": "https://localhost:8080/"
        },
        "outputId": "350838e7-5d51-417f-9060-9ba729ad4fc5"
      },
      "source": [
        "my_id, my_vector = 0, adj_matrix[0]\n",
        "best_match, best_match_id, best_match_vector = -1, -1, []\n",
        "\n",
        "for user_id, user_vector in enumerate(adj_matrix):\n",
        "  if my_id != user_id:\n",
        "    similarity = np.dot(my_vector, user_vector)\n",
        "    if similarity > best_match:\n",
        "      best_match = similarity\n",
        "      best_match_id = user_id\n",
        "      best_match_vector = user_vector\n",
        "\n",
        "print('Best Match: {}, Best Match ID: {}'.format(best_match, best_match_id))"
      ],
      "execution_count": null,
      "outputs": [
        {
          "output_type": "stream",
          "text": [
            "Best Match: 183, Best Match ID: 275\n"
          ],
          "name": "stdout"
        }
      ]
    },
    {
      "cell_type": "code",
      "metadata": {
        "id": "mRr8UnD7MB7U",
        "colab": {
          "base_uri": "https://localhost:8080/"
        },
        "outputId": "34532a3e-8f16-4b9b-ae38-6d1775e851bb"
      },
      "source": [
        "recommend_list = []\n",
        "for i, log in enumerate(zip(my_vector, best_match_vector)):\n",
        "  log1, log2 = log\n",
        "  if log1 < 1. and log2 > 0.:\n",
        "    recommend_list.append(i)\n",
        "print(recommend_list)"
      ],
      "execution_count": null,
      "outputs": [
        {
          "output_type": "stream",
          "text": [
            "[272, 273, 275, 280, 281, 283, 287, 288, 289, 290, 292, 293, 297, 299, 300, 301, 302, 306, 312, 314, 315, 316, 317, 321, 322, 323, 324, 327, 330, 331, 332, 333, 339, 342, 345, 346, 353, 354, 355, 356, 357, 363, 364, 365, 366, 372, 374, 378, 379, 381, 382, 383, 384, 385, 386, 387, 390, 391, 392, 394, 395, 396, 398, 400, 401, 402, 403, 404, 405, 406, 407, 408, 409, 410, 412, 414, 416, 417, 418, 419, 420, 422, 424, 425, 426, 427, 428, 430, 431, 432, 435, 442, 446, 447, 448, 449, 450, 451, 452, 454, 455, 457, 460, 461, 462, 468, 469, 470, 471, 472, 473, 474, 478, 495, 500, 507, 517, 522, 525, 530, 539, 540, 543, 545, 546, 548, 549, 550, 551, 553, 557, 558, 560, 561, 562, 563, 565, 566, 567, 568, 570, 571, 574, 575, 576, 577, 580, 581, 582, 585, 587, 589, 590, 594, 596, 602, 623, 626, 627, 630, 633, 635, 639, 646, 648, 651, 652, 654, 657, 664, 668, 671, 677, 678, 681, 683, 684, 685, 690, 691, 692, 695, 696, 708, 709, 714, 718, 719, 720, 724, 726, 727, 731, 733, 734, 736, 738, 741, 742, 745, 746, 747, 749, 750, 754, 758, 762, 764, 767, 768, 769, 770, 771, 772, 773, 778, 779, 782, 785, 788, 789, 793, 795, 796, 799, 800, 801, 802, 805, 806, 808, 815, 819, 822, 824, 830, 839, 842, 843, 844, 852, 853, 870, 875, 878, 880, 889, 901, 914, 915, 918, 921, 927, 929, 930, 938, 940, 941, 942, 948, 950, 958, 968, 973, 974, 976, 992, 999, 1005, 1009, 1010, 1012, 1015, 1018, 1027, 1030, 1034, 1035, 1041, 1043, 1045, 1046, 1051, 1055, 1072, 1073, 1078, 1080, 1082, 1088, 1089, 1090, 1094, 1097, 1108, 1109, 1117, 1128, 1130, 1134, 1139, 1140, 1144, 1156, 1169, 1171, 1179, 1193, 1198, 1207, 1209, 1212, 1217, 1219, 1220, 1227, 1231, 1238, 1239, 1243, 1244, 1252, 1266, 1272, 1273, 1300, 1313, 1406, 1412, 1415, 1470, 1477, 1480, 1481, 1482]\n"
          ],
          "name": "stdout"
        }
      ]
    },
    {
      "cell_type": "markdown",
      "metadata": {
        "id": "zR7-LITWZQnJ"
      },
      "source": [
        "* 유클리드 거리를 사용해 추천\n",
        "$$euclidean = \\sqrt{\\sum_{d=1}^{D}(A_i - B_i)^2}$$\n",
        "* 거리가 가까울 수록(값이 작을 수록) 나와 유사한 사용자"
      ]
    },
    {
      "cell_type": "code",
      "metadata": {
        "id": "WhbLJGz3NuNA",
        "colab": {
          "base_uri": "https://localhost:8080/"
        },
        "outputId": "2d0fe801-645b-451e-941b-8956fe00ecfc"
      },
      "source": [
        "my_id, my_vector = 0, adj_matrix[0]\n",
        "best_match, best_match_id, best_match_vector = 9999, -1, []\n",
        "\n",
        "for user_id, user_vector in enumerate(adj_matrix):\n",
        "  if my_id != user_id:\n",
        "    euclidean_dist = np.sqrt(np.sum(np.square(my_vector-user_vector)))\n",
        "    if euclidean_dist < best_match:\n",
        "      best_match = euclidean_dist\n",
        "      best_match_id = user_id\n",
        "      best_match_vector = user_vector\n",
        "\n",
        "print('Best Match: {}, Best Match ID: {}'.format(best_match, best_match_id))"
      ],
      "execution_count": null,
      "outputs": [
        {
          "output_type": "stream",
          "text": [
            "Best Match: 14.832396974191326, Best Match ID: 737\n"
          ],
          "name": "stdout"
        }
      ]
    },
    {
      "cell_type": "code",
      "metadata": {
        "id": "xbS037xebA76",
        "colab": {
          "base_uri": "https://localhost:8080/"
        },
        "outputId": "b9c93457-15c3-43d5-c666-202424300e72"
      },
      "source": [
        "recommend_list = []\n",
        "for i, log in enumerate(zip(my_vector, best_match_vector)):\n",
        "  log1, log2 = log\n",
        "  if log1 < 1. and log2 > 0.:\n",
        "    recommend_list.append(i)\n",
        "print(recommend_list)"
      ],
      "execution_count": null,
      "outputs": [
        {
          "output_type": "stream",
          "text": [
            "[297, 312, 317, 342, 356, 366, 379, 384, 392, 402, 404, 407, 417, 422, 428, 433, 448, 454, 469, 473, 495, 510, 516, 526, 527, 549, 567, 602, 635, 649, 650, 654, 658, 661, 664, 696, 731, 746, 750, 754, 915, 918, 925, 929, 950, 968, 1015, 1046]\n"
          ],
          "name": "stdout"
        }
      ]
    },
    {
      "cell_type": "markdown",
      "metadata": {
        "id": "52c6nfonct7x"
      },
      "source": [
        "* 코사인 유사도를 사용해 추천\n",
        "\n",
        "\\begin{equation}\n",
        "cos \\theta = \\frac{A \\cdot B}{||A|| \\times ||B||}\n",
        "\\end{equation}\n",
        "* 두 벡터가 이루고 있는 각을 계산"
      ]
    },
    {
      "cell_type": "code",
      "metadata": {
        "id": "WEJMnmAYejJW"
      },
      "source": [
        "def compute_cos_similarity(v1, v2):\n",
        "  norm1 = np.sqrt(np.sum(np.square(v1)))\n",
        "  norm2 = np.sqrt(np.sum(np.square(v2)))\n",
        "  dot = np.dot(v1, v2)\n",
        "  return dot / (norm1 * norm2)"
      ],
      "execution_count": null,
      "outputs": []
    },
    {
      "cell_type": "code",
      "metadata": {
        "id": "eouFYlVZb3iT",
        "colab": {
          "base_uri": "https://localhost:8080/"
        },
        "outputId": "9be819ab-9796-4351-c183-c3cd19c817d7"
      },
      "source": [
        "my_id, my_vector = 0, adj_matrix[0]\n",
        "best_match, best_match_id, best_match_vector = -1, -1, []\n",
        "\n",
        "for user_id, user_vector in enumerate(adj_matrix):\n",
        "  if my_id != user_id:\n",
        "    cos_similarity = compute_cos_similarity(my_vector, user_vector)\n",
        "    if cos_similarity > best_match:\n",
        "      best_match = cos_similarity\n",
        "      best_match_id = user_id\n",
        "      best_match_vector = user_vector\n",
        "\n",
        "print('Best Match: {}, Best Match ID: {}'.format(best_match, best_match_id))"
      ],
      "execution_count": null,
      "outputs": [
        {
          "output_type": "stream",
          "text": [
            "Best Match: 0.5278586163659506, Best Match ID: 915\n"
          ],
          "name": "stdout"
        }
      ]
    },
    {
      "cell_type": "code",
      "metadata": {
        "id": "HVhjBMure_4D",
        "colab": {
          "base_uri": "https://localhost:8080/"
        },
        "outputId": "2f631eb7-f67d-46b1-e560-c8f6de84dc0f"
      },
      "source": [
        "recommend_list = []\n",
        "for i, log in enumerate(zip(my_vector, best_match_vector)):\n",
        "  log1, log2 = log\n",
        "  if log1 < 1. and log2 > 0.:\n",
        "    recommend_list.append(i)\n",
        "print(recommend_list)"
      ],
      "execution_count": null,
      "outputs": [
        {
          "output_type": "stream",
          "text": [
            "[272, 275, 279, 280, 283, 285, 289, 294, 297, 316, 317, 355, 365, 366, 368, 379, 380, 381, 384, 386, 392, 398, 401, 404, 416, 420, 422, 424, 426, 427, 430, 432, 450, 460, 461, 466, 469, 471, 473, 474, 475, 479, 482, 483, 497, 505, 508, 510, 511, 522, 526, 527, 529, 530, 534, 536, 540, 545, 548, 549, 556, 557, 558, 560, 565, 567, 568, 569, 577, 580, 581, 582, 592, 596, 630, 635, 639, 641, 649, 651, 654, 673, 677, 678, 683, 684, 692, 696, 701, 703, 707, 708, 709, 712, 714, 719, 720, 726, 731, 734, 736, 738, 740, 745, 747, 754, 755, 761, 762, 763, 766, 780, 789, 791, 805, 819, 823, 824, 830, 843, 862, 865, 918, 929, 930, 938, 942, 943, 947, 958, 959, 960, 970, 977, 1004, 1008, 1009, 1010, 1013, 1041, 1045, 1069, 1072, 1073, 1078, 1097, 1100, 1108, 1112, 1118, 1134, 1193, 1205, 1207, 1216, 1219, 1267, 1334, 1400, 1427, 1596, 1681]\n"
          ],
          "name": "stdout"
        }
      ]
    },
    {
      "cell_type": "markdown",
      "metadata": {
        "id": "0dbZPgC4gZYw"
      },
      "source": [
        "기존 방법에 명시적 피드백(사용자가 평가한 영화 점수)을 추가해 실험"
      ]
    },
    {
      "cell_type": "code",
      "metadata": {
        "id": "_5udkr1PfGAD",
        "colab": {
          "base_uri": "https://localhost:8080/"
        },
        "outputId": "a955caf6-3e08-4e36-8137-98e537dab15e"
      },
      "source": [
        "adj_matrix = np.ndarray(shape, dtype=int)\n",
        "for user_id, movie_id, rating, time in raw_data:\n",
        "  adj_matrix[user_id][movie_id] = rating\n",
        "\n",
        "adj_matrix"
      ],
      "execution_count": null,
      "outputs": [
        {
          "output_type": "execute_result",
          "data": {
            "text/plain": [
              "array([[5, 3, 4, ..., 0, 0, 0],\n",
              "       [4, 0, 0, ..., 0, 0, 0],\n",
              "       [0, 0, 0, ..., 0, 0, 0],\n",
              "       ...,\n",
              "       [5, 0, 0, ..., 0, 0, 0],\n",
              "       [0, 0, 0, ..., 0, 0, 0],\n",
              "       [0, 5, 0, ..., 0, 0, 0]])"
            ]
          },
          "metadata": {
            "tags": []
          },
          "execution_count": 26
        }
      ]
    },
    {
      "cell_type": "code",
      "metadata": {
        "id": "ApfZVTtGgs41",
        "colab": {
          "base_uri": "https://localhost:8080/"
        },
        "outputId": "8f0388a3-d320-47ca-b82f-eefa67e5b48d"
      },
      "source": [
        "my_id, my_vector = 0, adj_matrix[0]\n",
        "best_match, best_match_id, best_match_vector = 9999, -1, []\n",
        "\n",
        "for user_id, user_vector in enumerate(adj_matrix):\n",
        "  if my_id != user_id:\n",
        "    euclidean_dist = np.sqrt(np.sum(np.square(my_vector-user_vector)))\n",
        "    if euclidean_dist < best_match:\n",
        "      best_match = euclidean_dist\n",
        "      best_match_id = user_id\n",
        "      best_match_vector = user_vector\n",
        "\n",
        "print('Best Match: {}, Best Match ID: {}'.format(best_match, best_match_id))"
      ],
      "execution_count": null,
      "outputs": [
        {
          "output_type": "stream",
          "text": [
            "Best Match: 55.06359959174482, Best Match ID: 737\n"
          ],
          "name": "stdout"
        }
      ]
    },
    {
      "cell_type": "code",
      "metadata": {
        "id": "OYTI1nT0hKtz",
        "colab": {
          "base_uri": "https://localhost:8080/"
        },
        "outputId": "9cfdf820-f9fc-4f2d-a3d3-1304f37b063a"
      },
      "source": [
        "\n",
        "my_id, my_vector = 0, adj_matrix[0]\n",
        "best_match, best_match_id, best_match_vector = -1, -1, []\n",
        "\n",
        "for user_id, user_vector in enumerate(adj_matrix):\n",
        "  if my_id != user_id:\n",
        "    cos_similarity = compute_cos_similarity(my_vector, user_vector)\n",
        "    if cos_similarity > best_match:\n",
        "      best_match = cos_similarity\n",
        "      best_match_id = user_id\n",
        "      best_match_vector = user_vector\n",
        "\n",
        "print('Best Match: {}, Best Match ID: {}'.format(best_match, best_match_id))"
      ],
      "execution_count": null,
      "outputs": [
        {
          "output_type": "stream",
          "text": [
            "Best Match: 0.569065731527988, Best Match ID: 915\n"
          ],
          "name": "stdout"
        }
      ]
    },
    {
      "cell_type": "markdown",
      "metadata": {
        "id": "tokWbfjB-Vna"
      },
      "source": [
        "유사도 계산에 따라서 다르다."
      ]
    },
    {
      "cell_type": "markdown",
      "metadata": {
        "id": "HreRrslahd32"
      },
      "source": [
        "## 협업 필터링(Collaborative Filtering)\n",
        "\n",
        "* 사용자와 항목의 유사성을 동시에 고려해 추천\n",
        "* 기존에 내 관심사가 아닌 항목이라도 추천 가능\n",
        "* 자동으로 임베딩 학습 가능\n",
        "* 협업 필터링은 다음과 같은 장단점을 갖고 있다.\n",
        "  * 장점\n",
        "    * 자동으로 임베딩을 학습하기 때문에 도메인 지식이 필요 없다.\n",
        "    * 기존의 관심사가 아니더라도 추천 가능\n",
        "  * 단점\n",
        "    * 학습 과정에 나오지 않은 항목은 임베딩을 만들 수 없음\n",
        "    * 추가 특성을 사용하기 어려움"
      ]
    },
    {
      "cell_type": "code",
      "metadata": {
        "id": "BSj5Ex6yhPxq"
      },
      "source": [
        "from surprise import KNNBasic, SVD, SVDpp, NMF\n",
        "from surprise import Dataset\n",
        "from surprise.model_selection import cross_validate"
      ],
      "execution_count": null,
      "outputs": []
    },
    {
      "cell_type": "code",
      "metadata": {
        "id": "mWAiO62WkH2U"
      },
      "source": [
        "data = Dataset.load_builtin('ml-100k', prompt=False)"
      ],
      "execution_count": null,
      "outputs": []
    },
    {
      "cell_type": "markdown",
      "metadata": {
        "id": "LKP-UxZkkc8n"
      },
      "source": [
        "* KNN을 사용한 협업 필터링"
      ]
    },
    {
      "cell_type": "code",
      "metadata": {
        "id": "x9LlEDqvkayg",
        "colab": {
          "base_uri": "https://localhost:8080/"
        },
        "outputId": "42d9545d-86dc-4d68-a202-72d4ac143193"
      },
      "source": [
        "model =KNNBasic()\n",
        "cross_validate(model, data, measures=['rmse', 'mae'], cv=5, n_jobs=4, verbose=True)"
      ],
      "execution_count": null,
      "outputs": [
        {
          "output_type": "stream",
          "text": [
            "Evaluating RMSE, MAE of algorithm KNNBasic on 5 split(s).\n",
            "\n",
            "                  Fold 1  Fold 2  Fold 3  Fold 4  Fold 5  Mean    Std     \n",
            "RMSE (testset)    0.9911  0.9730  0.9806  0.9684  0.9807  0.9788  0.0077  \n",
            "MAE (testset)     0.7796  0.7678  0.7749  0.7668  0.7761  0.7730  0.0049  \n",
            "Fit time          0.48    0.66    0.99    0.90    0.62    0.73    0.19    \n",
            "Test time         7.35    8.20    8.22    6.66    4.33    6.95    1.43    \n"
          ],
          "name": "stdout"
        },
        {
          "output_type": "execute_result",
          "data": {
            "text/plain": [
              "{'fit_time': (0.479794979095459,\n",
              "  0.6642611026763916,\n",
              "  0.9906458854675293,\n",
              "  0.8993215560913086,\n",
              "  0.6169700622558594),\n",
              " 'test_mae': array([0.77959555, 0.76778958, 0.77488475, 0.76682545, 0.77609832]),\n",
              " 'test_rmse': array([0.99107477, 0.97296214, 0.98062828, 0.96841305, 0.98073446]),\n",
              " 'test_time': (7.351216077804565,\n",
              "  8.196240663528442,\n",
              "  8.222270965576172,\n",
              "  6.658918142318726,\n",
              "  4.328389883041382)}"
            ]
          },
          "metadata": {
            "tags": []
          },
          "execution_count": 34
        }
      ]
    },
    {
      "cell_type": "markdown",
      "metadata": {
        "id": "QFEFPuSflHew"
      },
      "source": [
        "* SVD를 사용한 협업 필터링"
      ]
    },
    {
      "cell_type": "code",
      "metadata": {
        "id": "H6HJ5bKOlHIb",
        "colab": {
          "base_uri": "https://localhost:8080/"
        },
        "outputId": "8ab7abf6-0df4-459d-a91e-0eba70c0bed6"
      },
      "source": [
        "model =SVD()\n",
        "cross_validate(model, data, measures=['rmse', 'mae'], cv=5, n_jobs=4, verbose=True)"
      ],
      "execution_count": null,
      "outputs": [
        {
          "output_type": "stream",
          "text": [
            "Evaluating RMSE, MAE of algorithm SVD on 5 split(s).\n",
            "\n",
            "                  Fold 1  Fold 2  Fold 3  Fold 4  Fold 5  Mean    Std     \n",
            "RMSE (testset)    0.9361  0.9332  0.9321  0.9453  0.9353  0.9364  0.0047  \n",
            "MAE (testset)     0.7382  0.7362  0.7317  0.7459  0.7391  0.7382  0.0046  \n",
            "Fit time          11.67   15.24   15.01   12.34   8.33    12.52   2.53    \n",
            "Test time         0.59    0.60    0.35    0.28    0.17    0.40    0.17    \n"
          ],
          "name": "stdout"
        },
        {
          "output_type": "execute_result",
          "data": {
            "text/plain": [
              "{'fit_time': (11.669878005981445,\n",
              "  15.235394954681396,\n",
              "  15.01444411277771,\n",
              "  12.339833498001099,\n",
              "  8.32966160774231),\n",
              " 'test_mae': array([0.73823591, 0.73616109, 0.7316513 , 0.74587276, 0.73914345]),\n",
              " 'test_rmse': array([0.93609023, 0.93324882, 0.93205174, 0.94529659, 0.93526512]),\n",
              " 'test_time': (0.5940630435943604,\n",
              "  0.5969431400299072,\n",
              "  0.3507058620452881,\n",
              "  0.28182530403137207,\n",
              "  0.1663837432861328)}"
            ]
          },
          "metadata": {
            "tags": []
          },
          "execution_count": 35
        }
      ]
    },
    {
      "cell_type": "markdown",
      "metadata": {
        "id": "MqK8Xgeglkmj"
      },
      "source": [
        "* NMF를 사용한 협업 필터링"
      ]
    },
    {
      "cell_type": "code",
      "metadata": {
        "id": "zSwGKHEDkyue",
        "colab": {
          "base_uri": "https://localhost:8080/"
        },
        "outputId": "670c3c85-e45b-4dbb-c1c7-4d09ea555cb5"
      },
      "source": [
        "model =NMF()\n",
        "cross_validate(model, data, measures=['rmse', 'mae'], cv=5, n_jobs=4, verbose=True)"
      ],
      "execution_count": null,
      "outputs": [
        {
          "output_type": "stream",
          "text": [
            "Evaluating RMSE, MAE of algorithm NMF on 5 split(s).\n",
            "\n",
            "                  Fold 1  Fold 2  Fold 3  Fold 4  Fold 5  Mean    Std     \n",
            "RMSE (testset)    0.9596  0.9691  0.9592  0.9617  0.9672  0.9634  0.0040  \n",
            "MAE (testset)     0.7530  0.7634  0.7543  0.7582  0.7586  0.7575  0.0037  \n",
            "Fit time          13.69   15.51   15.86   13.50   8.90    13.49   2.48    \n",
            "Test time         0.61    0.49    0.40    0.23    0.15    0.38    0.17    \n"
          ],
          "name": "stdout"
        },
        {
          "output_type": "execute_result",
          "data": {
            "text/plain": [
              "{'fit_time': (13.690475940704346,\n",
              "  15.514971733093262,\n",
              "  15.86121916770935,\n",
              "  13.497621059417725,\n",
              "  8.897226095199585),\n",
              " 'test_mae': array([0.75297192, 0.7634153 , 0.75428814, 0.75819383, 0.75861937]),\n",
              " 'test_rmse': array([0.95964885, 0.96909725, 0.95924155, 0.96174792, 0.967194  ]),\n",
              " 'test_time': (0.6082985401153564,\n",
              "  0.4934260845184326,\n",
              "  0.3980250358581543,\n",
              "  0.2317647933959961,\n",
              "  0.14661598205566406)}"
            ]
          },
          "metadata": {
            "tags": []
          },
          "execution_count": 36
        }
      ]
    },
    {
      "cell_type": "markdown",
      "metadata": {
        "id": "odXxXkX0mi_7"
      },
      "source": [
        "* SVD++를 사용한 협업 필터링"
      ]
    },
    {
      "cell_type": "code",
      "metadata": {
        "id": "Ck153w1Tlsxa",
        "colab": {
          "base_uri": "https://localhost:8080/"
        },
        "outputId": "7a34cbf7-3938-4d76-a5fe-bf9240d6fefa"
      },
      "source": [
        "model =SVDpp()\n",
        "cross_validate(model, data, measures=['rmse', 'mae'], cv=5, n_jobs=4, verbose=True)"
      ],
      "execution_count": null,
      "outputs": [
        {
          "output_type": "stream",
          "text": [
            "Evaluating RMSE, MAE of algorithm SVDpp on 5 split(s).\n",
            "\n",
            "                  Fold 1  Fold 2  Fold 3  Fold 4  Fold 5  Mean    Std     \n",
            "RMSE (testset)    0.9202  0.9232  0.9149  0.9209  0.9139  0.9186  0.0036  \n",
            "MAE (testset)     0.7227  0.7233  0.7184  0.7224  0.7192  0.7212  0.0020  \n",
            "Fit time          670.89  676.71  672.71  674.85  170.75  573.18  201.22  \n",
            "Test time         12.10   12.87   12.81   8.84    3.18    9.96    3.70    \n"
          ],
          "name": "stdout"
        },
        {
          "output_type": "execute_result",
          "data": {
            "text/plain": [
              "{'fit_time': (670.8885545730591,\n",
              "  676.7083258628845,\n",
              "  672.7058877944946,\n",
              "  674.8489990234375,\n",
              "  170.75185418128967),\n",
              " 'test_mae': array([0.72267477, 0.72328228, 0.71842161, 0.72237285, 0.71915279]),\n",
              " 'test_rmse': array([0.92020341, 0.9232466 , 0.91490211, 0.92091191, 0.91392988]),\n",
              " 'test_time': (12.104559898376465,\n",
              "  12.871785640716553,\n",
              "  12.807793855667114,\n",
              "  8.839627981185913,\n",
              "  3.179114818572998)}"
            ]
          },
          "metadata": {
            "tags": []
          },
          "execution_count": 37
        }
      ]
    },
    {
      "cell_type": "markdown",
      "metadata": {
        "id": "hMNwOXpjqeWq"
      },
      "source": [
        "## 하이브리드(Hybrid)\n",
        "\n",
        "* 컨텐츠 기반 필터링과 협업 필터링을 조합한 방식\n",
        "* 많은 하이브리드 방식이 존재\n",
        "* 실습에서는 협업 필터링으로 임베딩을 학습하고 컨텐츠 기반 필터링으로 유사도 기반 추천을 수행하는 추천 엔진 개발"
      ]
    },
    {
      "cell_type": "code",
      "metadata": {
        "id": "9mDHmnwFmzwd"
      },
      "source": [
        "import numpy as np\n",
        "from sklearn.decomposition import randomized_svd, non_negative_factorization\n",
        "from surprise import Dataset"
      ],
      "execution_count": null,
      "outputs": []
    },
    {
      "cell_type": "code",
      "metadata": {
        "id": "MtEuyQGGMmor"
      },
      "source": [
        "data = Dataset.load_builtin('ml-100k', prompt=False)\n",
        "raw_data = np.array(data.raw_ratings, dtype=int)\n",
        "raw_data[:, 0] -= 1\n",
        "raw_data[:, 1] -= 1"
      ],
      "execution_count": null,
      "outputs": []
    },
    {
      "cell_type": "code",
      "metadata": {
        "id": "esDSrjm_NshD"
      },
      "source": [
        "n_users = np.max(raw_data[:,0])\n",
        "n_movies = np.max(raw_data[:,1])\n",
        "shape = (n_users + 1, n_movies + 1)"
      ],
      "execution_count": null,
      "outputs": []
    },
    {
      "cell_type": "code",
      "metadata": {
        "id": "v6lc4h2sNY_7"
      },
      "source": [
        "adj_matrix = np.ndarray(shape, dtype=int)\n",
        "for user_id, movie_id, rating, time in raw_data:\n",
        "  adj_matrix[user_id][movie_id] = rating"
      ],
      "execution_count": null,
      "outputs": []
    },
    {
      "cell_type": "code",
      "metadata": {
        "id": "bZnx294OTntk",
        "colab": {
          "base_uri": "https://localhost:8080/"
        },
        "outputId": "b287c201-d88a-4833-fe10-f2a05172ed98"
      },
      "source": [
        "adj_matrix"
      ],
      "execution_count": null,
      "outputs": [
        {
          "output_type": "execute_result",
          "data": {
            "text/plain": [
              "array([[5, 3, 4, ..., 0, 0, 0],\n",
              "       [4, 0, 0, ..., 0, 0, 0],\n",
              "       [0, 0, 0, ..., 0, 0, 0],\n",
              "       ...,\n",
              "       [5, 0, 0, ..., 0, 0, 0],\n",
              "       [0, 0, 0, ..., 0, 0, 0],\n",
              "       [0, 5, 0, ..., 0, 0, 0]])"
            ]
          },
          "metadata": {
            "tags": []
          },
          "execution_count": 104
        }
      ]
    },
    {
      "cell_type": "code",
      "metadata": {
        "id": "mpw7bmE-SVon"
      },
      "source": [
        "U, S, V = randomized_svd(adj_matrix, n_components=2)\n",
        "S = np.diag(S)"
      ],
      "execution_count": null,
      "outputs": []
    },
    {
      "cell_type": "code",
      "metadata": {
        "id": "sdnXxd6lODFy",
        "colab": {
          "base_uri": "https://localhost:8080/"
        },
        "outputId": "472dbc3a-a8f0-4384-f56c-d2b6707e5c7c"
      },
      "source": [
        "print(U.shape)\n",
        "print(S.shape)\n",
        "print(V.shape)"
      ],
      "execution_count": null,
      "outputs": [
        {
          "output_type": "stream",
          "text": [
            "(943, 2)\n",
            "(2, 2)\n",
            "(2, 1682)\n"
          ],
          "name": "stdout"
        }
      ]
    },
    {
      "cell_type": "code",
      "metadata": {
        "id": "zBvnhmuhOxDx",
        "colab": {
          "base_uri": "https://localhost:8080/"
        },
        "outputId": "ca81fcb7-31a5-495a-96a7-bee86a099add"
      },
      "source": [
        "np.matmul(np.matmul(U, S), V)"
      ],
      "execution_count": null,
      "outputs": [
        {
          "output_type": "execute_result",
          "data": {
            "text/plain": [
              "array([[ 3.91732663e+00,  1.47276644e+00,  7.98261988e-01, ...,\n",
              "         6.24907189e-04,  1.41100852e-02,  1.36545878e-02],\n",
              "       [ 1.85777226e+00,  3.96191175e-01,  5.05705740e-01, ...,\n",
              "         5.38862978e-03,  1.77237914e-03,  5.26968095e-04],\n",
              "       [ 8.94989517e-01,  1.71578497e-01,  2.51738682e-01, ...,\n",
              "         2.92094923e-03,  5.39937171e-04, -1.25733753e-04],\n",
              "       ...,\n",
              "       [ 9.92051955e-01,  2.10814957e-01,  2.70363365e-01, ...,\n",
              "         2.89019297e-03,  9.34221962e-04,  2.66612193e-04],\n",
              "       [ 1.30425401e+00,  5.27669941e-01,  2.50080165e-01, ...,\n",
              "        -4.20677765e-04,  5.30525683e-03,  5.28069948e-03],\n",
              "       [ 2.82999397e+00,  9.70812247e-01,  6.15871694e-01, ...,\n",
              "         2.02091492e-03,  8.67740813e-03,  8.03107892e-03]])"
            ]
          },
          "metadata": {
            "tags": []
          },
          "execution_count": 107
        }
      ]
    },
    {
      "cell_type": "markdown",
      "metadata": {
        "id": "3pSBMfF7d74E"
      },
      "source": [
        "* 사용자 기반 추천\n",
        "* 나와 비슷한 취향을 가진 다른 사용자의 행동을 추천\n",
        "* 사용자 특징 벡터의 유사도 사용"
      ]
    },
    {
      "cell_type": "code",
      "metadata": {
        "id": "N6nYexy6cq9V",
        "colab": {
          "base_uri": "https://localhost:8080/"
        },
        "outputId": "270edf19-7777-4b82-eb42-80988111fbe5"
      },
      "source": [
        "my_id, my_vector = 0, U[0]\n",
        "best_match, best_match_id, best_match_vector = -1, -1, []\n",
        "\n",
        "for user_id, user_vector in enumerate(U):\n",
        "  if my_id != user_id:\n",
        "    cos_similarity = compute_cos_similarity(my_vector, user_vector)\n",
        "    if cos_similarity > best_match:\n",
        "      best_match = cos_similarity\n",
        "      best_match_id = user_id\n",
        "      best_match_vector = user_vector\n",
        "\n",
        "print('Best Match: {}, Best Match ID: {}'.format(best_match, best_match_id))"
      ],
      "execution_count": null,
      "outputs": [
        {
          "output_type": "stream",
          "text": [
            "Best Match: 0.9999942295956324, Best Match ID: 235\n"
          ],
          "name": "stdout"
        }
      ]
    },
    {
      "cell_type": "code",
      "metadata": {
        "id": "wdISUAEIfoHi",
        "colab": {
          "base_uri": "https://localhost:8080/"
        },
        "outputId": "892f12fd-38ff-493c-d16e-c596d9b912de"
      },
      "source": [
        "recommend_list = []\n",
        "for i, log in enumerate(zip(adj_matrix[my_id], adj_matrix[best_match_id])):\n",
        "  log1, log2 = log\n",
        "  if log1 < 1. and log2 > 0.:\n",
        "    recommend_list.append(i)\n",
        "print(recommend_list)"
      ],
      "execution_count": null,
      "outputs": [
        {
          "output_type": "stream",
          "text": [
            "[272, 273, 274, 281, 285, 288, 293, 297, 303, 306, 312, 317, 327, 332, 369, 410, 418, 419, 422, 426, 428, 431, 434, 442, 461, 475, 477, 482, 495, 503, 504, 505, 506, 509, 519, 520, 522, 525, 531, 545, 548, 590, 594, 595, 613, 631, 654, 658, 660, 672, 684, 685, 691, 695, 698, 704, 716, 728, 734, 749, 755, 863, 865, 933, 1012, 1038, 1101, 1327, 1400]\n"
          ],
          "name": "stdout"
        }
      ]
    },
    {
      "cell_type": "markdown",
      "metadata": {
        "id": "0nSD2izbhJix"
      },
      "source": [
        "* 항목 기반 추천\n",
        "* 내가 본 항목과 비슷한 항목을 추천\n",
        "* 항목 특징 벡터의 유사도 사용"
      ]
    },
    {
      "cell_type": "code",
      "metadata": {
        "id": "vCLxtkLdgM-s",
        "colab": {
          "base_uri": "https://localhost:8080/"
        },
        "outputId": "fdb50cf4-d666-4511-e93b-2658f0306110"
      },
      "source": [
        "my_id, my_vector = 0, V.T[0]\n",
        "best_match, best_match_id, best_match_vector = -1, -1, []\n",
        "\n",
        "for user_id, user_vector in enumerate(V.T):\n",
        "  if my_id != user_id:\n",
        "    cos_similarity = compute_cos_similarity(my_vector, user_vector)\n",
        "    if cos_similarity > best_match:\n",
        "      best_match = cos_similarity\n",
        "      best_match_id = user_id\n",
        "      best_match_vector = user_vector\n",
        "\n",
        "print('Best Match: {}, Best Match ID: {}'.format(best_match, best_match_id))"
      ],
      "execution_count": null,
      "outputs": [
        {
          "output_type": "stream",
          "text": [
            "Best Match: 0.9999999951364145, Best Match ID: 1287\n"
          ],
          "name": "stdout"
        }
      ]
    },
    {
      "cell_type": "code",
      "metadata": {
        "id": "IZ49Abk7iBeU",
        "colab": {
          "base_uri": "https://localhost:8080/"
        },
        "outputId": "5ae13f30-ba9a-434f-cae1-af3a5e8bba6a"
      },
      "source": [
        "recommend_list = []\n",
        "for i, user_vector in enumerate(adj_matrix):\n",
        "  if adj_matrix[i][my_id] > 0.9:\n",
        "    recommend_list.append(i)\n",
        "print(recommend_list)"
      ],
      "execution_count": null,
      "outputs": [
        {
          "output_type": "stream",
          "text": [
            "[0, 1, 4, 5, 9, 12, 14, 15, 16, 17, 19, 20, 22, 24, 25, 37, 40, 41, 42, 43, 44, 48, 53, 55, 56, 57, 58, 61, 62, 63, 64, 65, 66, 69, 71, 72, 74, 76, 78, 80, 81, 82, 83, 88, 91, 92, 93, 94, 95, 96, 98, 100, 101, 105, 107, 108, 116, 119, 120, 123, 124, 127, 129, 130, 133, 136, 137, 140, 143, 144, 147, 149, 150, 156, 157, 159, 161, 167, 173, 176, 177, 180, 181, 183, 188, 192, 193, 197, 198, 199, 200, 201, 202, 203, 208, 209, 212, 215, 221, 222, 229, 230, 231, 233, 234, 241, 242, 243, 245, 246, 247, 248, 249, 250, 251, 252, 253, 255, 261, 262, 264, 267, 270, 273, 274, 275, 276, 278, 279, 285, 286, 288, 289, 290, 291, 292, 293, 294, 295, 296, 297, 298, 300, 302, 304, 306, 307, 310, 311, 312, 313, 319, 321, 323, 324, 325, 326, 329, 330, 331, 335, 337, 338, 339, 342, 343, 344, 346, 347, 349, 356, 358, 359, 362, 364, 370, 373, 377, 378, 379, 380, 386, 387, 388, 389, 392, 393, 394, 395, 397, 398, 400, 401, 402, 405, 406, 410, 411, 415, 416, 418, 421, 423, 424, 428, 431, 433, 434, 437, 440, 444, 446, 449, 453, 454, 455, 456, 457, 458, 459, 462, 464, 466, 467, 469, 470, 471, 477, 478, 482, 483, 485, 486, 487, 489, 492, 493, 494, 496, 499, 502, 504, 507, 511, 513, 516, 517, 520, 522, 524, 525, 531, 532, 533, 534, 535, 536, 539, 540, 541, 544, 547, 548, 549, 551, 552, 553, 559, 560, 561, 566, 568, 575, 576, 578, 579, 581, 587, 591, 592, 596, 598, 601, 604, 605, 608, 609, 611, 612, 613, 617, 619, 620, 621, 623, 629, 631, 633, 634, 635, 636, 641, 642, 647, 648, 649, 652, 653, 654, 656, 657, 659, 660, 662, 663, 664, 668, 673, 675, 676, 677, 678, 679, 681, 683, 688, 689, 690, 691, 696, 697, 698, 700, 702, 704, 705, 707, 708, 709, 713, 714, 715, 720, 722, 725, 726, 729, 730, 732, 734, 737, 741, 743, 744, 745, 746, 747, 748, 750, 755, 756, 758, 760, 762, 763, 766, 767, 768, 769, 770, 772, 776, 778, 784, 785, 787, 788, 789, 791, 792, 793, 794, 795, 797, 799, 803, 804, 805, 806, 814, 816, 820, 821, 822, 825, 828, 829, 830, 834, 837, 838, 842, 846, 851, 853, 863, 864, 866, 867, 869, 871, 878, 879, 880, 881, 882, 884, 885, 886, 888, 889, 891, 892, 893, 894, 895, 896, 898, 900, 901, 902, 906, 909, 912, 915, 916, 917, 918, 920, 921, 922, 923, 926, 928, 929, 931, 932, 933, 934, 935, 937, 940]\n"
          ],
          "name": "stdout"
        }
      ]
    },
    {
      "cell_type": "markdown",
      "metadata": {
        "id": "7uAlUROxj2nA"
      },
      "source": [
        "* 비음수 행렬 분해를 사용한 하이브리드 추천"
      ]
    },
    {
      "cell_type": "code",
      "metadata": {
        "id": "Ou2UGuXMTY39",
        "colab": {
          "base_uri": "https://localhost:8080/"
        },
        "outputId": "97cd3f85-cea4-4e18-a293-7d294699eb02"
      },
      "source": [
        "adj_matrix"
      ],
      "execution_count": null,
      "outputs": [
        {
          "output_type": "execute_result",
          "data": {
            "text/plain": [
              "array([[5, 3, 4, ..., 0, 0, 0],\n",
              "       [4, 0, 0, ..., 0, 0, 0],\n",
              "       [0, 0, 0, ..., 0, 0, 0],\n",
              "       ...,\n",
              "       [5, 0, 0, ..., 0, 0, 0],\n",
              "       [0, 0, 0, ..., 0, 0, 0],\n",
              "       [0, 5, 0, ..., 0, 0, 0]])"
            ]
          },
          "metadata": {
            "tags": []
          },
          "execution_count": 112
        }
      ]
    },
    {
      "cell_type": "code",
      "metadata": {
        "id": "yThSdQxDjnsk",
        "colab": {
          "base_uri": "https://localhost:8080/"
        },
        "outputId": "d645be66-2004-48e9-d80c-0d98dcfbef08"
      },
      "source": [
        "A, B, iter = non_negative_factorization(adj_matrix, n_components=2)"
      ],
      "execution_count": null,
      "outputs": [
        {
          "output_type": "stream",
          "text": [
            "/usr/local/lib/python3.7/dist-packages/sklearn/decomposition/_nmf.py:1035: FutureWarning: The default value of init will change from random to None in 0.23 to make it consistent with decomposition.NMF.\n",
            "  \"with decomposition.NMF.\", FutureWarning)\n"
          ],
          "name": "stderr"
        }
      ]
    },
    {
      "cell_type": "code",
      "metadata": {
        "id": "hqtcd6HmkOsA",
        "colab": {
          "base_uri": "https://localhost:8080/"
        },
        "outputId": "7b221ff0-2877-44dc-df78-d9becfb2d228"
      },
      "source": [
        "np.matmul(A,B)"
      ],
      "execution_count": null,
      "outputs": [
        {
          "output_type": "execute_result",
          "data": {
            "text/plain": [
              "array([[3.71104038e+00, 1.48480294e+00, 7.39556295e-01, ...,\n",
              "        3.64528698e-03, 1.45530974e-02, 1.44128829e-02],\n",
              "       [2.11742189e+00, 2.36686825e-01, 5.51606625e-01, ...,\n",
              "        4.76763283e-03, 2.39498319e-05, 0.00000000e+00],\n",
              "       [9.85450399e-01, 1.10154300e-01, 2.56718310e-01, ...,\n",
              "        2.21886139e-03, 1.11462773e-05, 0.00000000e+00],\n",
              "       ...,\n",
              "       [1.04460880e+00, 1.16767066e-01, 2.72129583e-01, ...,\n",
              "        2.35206373e-03, 1.18154088e-05, 0.00000000e+00],\n",
              "       [1.45794242e+00, 5.42097731e-01, 2.99301800e-01, ...,\n",
              "        1.61362981e-03, 5.15824110e-03, 5.10694118e-03],\n",
              "       [2.44654991e+00, 9.41445354e-01, 4.95509637e-01, ...,\n",
              "        2.56798441e-03, 9.08668995e-03, 8.99768837e-03]])"
            ]
          },
          "metadata": {
            "tags": []
          },
          "execution_count": 114
        }
      ]
    },
    {
      "cell_type": "markdown",
      "metadata": {
        "id": "6DGX9EtEop4i"
      },
      "source": [
        "* 사용자 기반 추천"
      ]
    },
    {
      "cell_type": "code",
      "metadata": {
        "id": "dndXY3Gvm7zs",
        "colab": {
          "base_uri": "https://localhost:8080/"
        },
        "outputId": "2c4814f9-a09b-44da-9e83-c840ba404965"
      },
      "source": [
        "my_id, my_vector = 0, U[0] # 내 id가 0이라고 가정\n",
        "best_match, best_match_id, best_match_vector = -1, -1, []\n",
        "\n",
        "for user_id, user_vector in enumerate(U):\n",
        "  if my_id != user_id:\n",
        "    cos_similarity = compute_cos_similarity(my_vector, user_vector)\n",
        "    if cos_similarity > best_match:\n",
        "      best_match = cos_similarity\n",
        "      best_match_id = user_id\n",
        "      best_match_vector = user_vector\n",
        "\n",
        "print('Best Match: {}, Best Match ID: {}'.format(best_match, best_match_id))"
      ],
      "execution_count": null,
      "outputs": [
        {
          "output_type": "stream",
          "text": [
            "Best Match: 0.9999942295956324, Best Match ID: 235\n"
          ],
          "name": "stdout"
        }
      ]
    },
    {
      "cell_type": "code",
      "metadata": {
        "id": "njszNHE_m9MK",
        "colab": {
          "base_uri": "https://localhost:8080/"
        },
        "outputId": "6b08b1b0-0f0d-4331-f571-824df27239f4"
      },
      "source": [
        "recommend_list = []\n",
        "for i, log in enumerate(zip(adj_matrix[my_id], adj_matrix[best_match_id])):\n",
        "  log1, log2 = log\n",
        "  if log1 < 1. and log2 > 0.:\n",
        "    recommend_list.append(i)\n",
        "print(recommend_list)"
      ],
      "execution_count": null,
      "outputs": [
        {
          "output_type": "stream",
          "text": [
            "[272, 273, 274, 281, 285, 288, 293, 297, 303, 306, 312, 317, 327, 332, 369, 410, 418, 419, 422, 426, 428, 431, 434, 442, 461, 475, 477, 482, 495, 503, 504, 505, 506, 509, 519, 520, 522, 525, 531, 545, 548, 590, 594, 595, 613, 631, 654, 658, 660, 672, 684, 685, 691, 695, 698, 704, 716, 728, 734, 749, 755, 863, 865, 933, 1012, 1038, 1101, 1327, 1400]\n"
          ],
          "name": "stdout"
        }
      ]
    },
    {
      "cell_type": "markdown",
      "metadata": {
        "id": "F21eqO8dosUE"
      },
      "source": [
        "* 항목 기반 추천"
      ]
    },
    {
      "cell_type": "code",
      "metadata": {
        "id": "G8RZo0Mvom4X",
        "colab": {
          "base_uri": "https://localhost:8080/"
        },
        "outputId": "dfeb5032-94fa-45b8-88ec-2756aa6fd28c"
      },
      "source": [
        "my_id, my_vector = 0, V.T[0] # 기준 항목이 0이라고 가정\n",
        "best_match, best_match_id, best_match_vector = -1, -1, []\n",
        "\n",
        "for user_id, user_vector in enumerate(V.T):\n",
        "  if my_id != user_id:\n",
        "    cos_similarity = compute_cos_similarity(my_vector, user_vector)\n",
        "    if cos_similarity > best_match:\n",
        "      best_match = cos_similarity\n",
        "      best_match_id = user_id\n",
        "      best_match_vector = user_vector\n",
        "\n",
        "print('Best Match: {}, Best Match ID: {}'.format(best_match, best_match_id))"
      ],
      "execution_count": null,
      "outputs": [
        {
          "output_type": "stream",
          "text": [
            "Best Match: 0.9999999951364145, Best Match ID: 1287\n"
          ],
          "name": "stdout"
        }
      ]
    },
    {
      "cell_type": "code",
      "metadata": {
        "id": "G_ua-2Lcox8i",
        "colab": {
          "base_uri": "https://localhost:8080/"
        },
        "outputId": "d2db3803-488c-4e5b-f750-3412f9f99ed2"
      },
      "source": [
        "recommend_list = []\n",
        "for i, user_vector in enumerate(adj_matrix):\n",
        "  if adj_matrix[i][my_id] > 0.9:\n",
        "    recommend_list.append(i)\n",
        "print(recommend_list)"
      ],
      "execution_count": null,
      "outputs": [
        {
          "output_type": "stream",
          "text": [
            "[0, 1, 4, 5, 9, 12, 14, 15, 16, 17, 19, 20, 22, 24, 25, 37, 40, 41, 42, 43, 44, 48, 53, 55, 56, 57, 58, 61, 62, 63, 64, 65, 66, 69, 71, 72, 74, 76, 78, 80, 81, 82, 83, 88, 91, 92, 93, 94, 95, 96, 98, 100, 101, 105, 107, 108, 116, 119, 120, 123, 124, 127, 129, 130, 133, 136, 137, 140, 143, 144, 147, 149, 150, 156, 157, 159, 161, 167, 173, 176, 177, 180, 181, 183, 188, 192, 193, 197, 198, 199, 200, 201, 202, 203, 208, 209, 212, 215, 221, 222, 229, 230, 231, 233, 234, 241, 242, 243, 245, 246, 247, 248, 249, 250, 251, 252, 253, 255, 261, 262, 264, 267, 270, 273, 274, 275, 276, 278, 279, 285, 286, 288, 289, 290, 291, 292, 293, 294, 295, 296, 297, 298, 300, 302, 304, 306, 307, 310, 311, 312, 313, 319, 321, 323, 324, 325, 326, 329, 330, 331, 335, 337, 338, 339, 342, 343, 344, 346, 347, 349, 356, 358, 359, 362, 364, 370, 373, 377, 378, 379, 380, 386, 387, 388, 389, 392, 393, 394, 395, 397, 398, 400, 401, 402, 405, 406, 410, 411, 415, 416, 418, 421, 423, 424, 428, 431, 433, 434, 437, 440, 444, 446, 449, 453, 454, 455, 456, 457, 458, 459, 462, 464, 466, 467, 469, 470, 471, 477, 478, 482, 483, 485, 486, 487, 489, 492, 493, 494, 496, 499, 502, 504, 507, 511, 513, 516, 517, 520, 522, 524, 525, 531, 532, 533, 534, 535, 536, 539, 540, 541, 544, 547, 548, 549, 551, 552, 553, 559, 560, 561, 566, 568, 575, 576, 578, 579, 581, 587, 591, 592, 596, 598, 601, 604, 605, 608, 609, 611, 612, 613, 617, 619, 620, 621, 623, 629, 631, 633, 634, 635, 636, 641, 642, 647, 648, 649, 652, 653, 654, 656, 657, 659, 660, 662, 663, 664, 668, 673, 675, 676, 677, 678, 679, 681, 683, 688, 689, 690, 691, 696, 697, 698, 700, 702, 704, 705, 707, 708, 709, 713, 714, 715, 720, 722, 725, 726, 729, 730, 732, 734, 737, 741, 743, 744, 745, 746, 747, 748, 750, 755, 756, 758, 760, 762, 763, 766, 767, 768, 769, 770, 772, 776, 778, 784, 785, 787, 788, 789, 791, 792, 793, 794, 795, 797, 799, 803, 804, 805, 806, 814, 816, 820, 821, 822, 825, 828, 829, 830, 834, 837, 838, 842, 846, 851, 853, 863, 864, 866, 867, 869, 871, 878, 879, 880, 881, 882, 884, 885, 886, 888, 889, 891, 892, 893, 894, 895, 896, 898, 900, 901, 902, 906, 909, 912, 915, 916, 917, 918, 920, 921, 922, 923, 926, 928, 929, 931, 932, 933, 934, 935, 937, 940]\n"
          ],
          "name": "stdout"
        }
      ]
    },
    {
      "cell_type": "code",
      "metadata": {
        "id": "n_9tAJNOEnmq"
      },
      "source": [
        " "
      ],
      "execution_count": null,
      "outputs": []
    },
    {
      "cell_type": "code",
      "metadata": {
        "id": "6M-pF92nE9gF"
      },
      "source": [
        ""
      ],
      "execution_count": null,
      "outputs": []
    }
  ]
}