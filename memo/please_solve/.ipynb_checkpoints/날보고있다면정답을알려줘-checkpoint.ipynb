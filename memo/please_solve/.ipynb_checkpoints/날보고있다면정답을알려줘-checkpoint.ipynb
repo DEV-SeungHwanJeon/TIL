{
 "cells": [
  {
   "cell_type": "markdown",
   "id": "private-consequence",
   "metadata": {},
   "source": [
    "1급 객체에 대하여"
   ]
  },
  {
   "cell_type": "code",
   "execution_count": null,
   "id": "polish-mechanism",
   "metadata": {},
   "outputs": [],
   "source": []
  },
  {
   "cell_type": "markdown",
   "id": "intended-cooperation",
   "metadata": {},
   "source": [
    "(해결) 응용 모음 제거하기에서 lsit comprehension을 활용하기."
   ]
  },
  {
   "cell_type": "code",
   "execution_count": 2,
   "id": "needed-retreat",
   "metadata": {},
   "outputs": [
    {
     "name": "stdout",
     "output_type": "stream",
     "text": [
      "Lf s t shrt, y nd pythn!\n"
     ]
    }
   ],
   "source": [
    "### [응용] 문장에서 모음(a, e, i, o, u)를 모두 제거하세요.\n",
    "# **[입력 예시]**\n",
    "# words = 'Life is too short, you need python!'\n",
    "# **[출력 예시]**\n",
    "# Lf s t shrt, y nd pythn!\n",
    "vowels = 'aeiou'\n",
    "words = 'Life is too short, you need python!'\n",
    "\n",
    "for i in vowels:\n",
    "    words = words.replace(i,'')\n",
    "\n",
    "print(words)"
   ]
  },
  {
   "cell_type": "markdown",
   "id": "structured-closure",
   "metadata": {},
   "source": [
    "Lazy Evaluation"
   ]
  },
  {
   "cell_type": "code",
   "execution_count": 5,
   "id": "valuable-container",
   "metadata": {},
   "outputs": [
    {
     "name": "stdout",
     "output_type": "stream",
     "text": [
      "[let's make one_list !]\n",
      "return 1\n",
      "return 1\n",
      "return 1\n",
      "return 1\n",
      "return 1\n",
      "return 1\n",
      "return 1\n",
      "return 1\n",
      "return 1\n",
      "return 1\n",
      "[let's print one_list !]\n",
      "1\n",
      "1\n",
      "1\n",
      "1\n",
      "1\n",
      "1\n",
      "1\n",
      "1\n",
      "1\n",
      "1\n"
     ]
    }
   ],
   "source": [
    "# 숫자 1을 반환하는 단순한 함수. 반환 전에 return 1이라는 문자열을 출력.\n",
    "def return_one():\n",
    "    print(\"return 1\")\n",
    "    return 1\n",
    "\n",
    "print(\"[let's make one_list !]\")\n",
    "# return_one을 10번 수행하여 숫자 1을 10개 담는 리스트를 만들어보자.\n",
    "one_list = [return_one() for i in range(10)]\n",
    "\n",
    "print(\"[let's print one_list !]\")\n",
    "# 하나씩 출력해보자. one_list를 출력하기 전에 미리 함수 10번이 실행되어 값을 다 만들어 리스트에 저장해놓았다.\n",
    "for one in one_list:\n",
    "    print(one)"
   ]
  },
  {
   "cell_type": "code",
   "execution_count": 6,
   "id": "intelligent-yemen",
   "metadata": {},
   "outputs": [
    {
     "name": "stdout",
     "output_type": "stream",
     "text": [
      "[let's make one_generator !]\n",
      "[let's print one_generator !]\n",
      "return 1\n",
      "1\n",
      "return 1\n",
      "1\n",
      "return 1\n",
      "1\n",
      "return 1\n",
      "1\n",
      "return 1\n",
      "1\n",
      "return 1\n",
      "1\n",
      "return 1\n",
      "1\n",
      "return 1\n",
      "1\n",
      "return 1\n",
      "1\n",
      "return 1\n",
      "1\n"
     ]
    }
   ],
   "source": [
    "# 이번엔 리스트 대신 generator로 값을 생성해보자.\n",
    "# list comprehension에서 대괄호만 소괄호로 바꾸어주면 generator expression이 된다.\n",
    "def return_one():\n",
    "    print(\"return 1\")\n",
    "    return 1\n",
    "\n",
    "print(\"[let's make one_generator !]\")\n",
    "one_generator = (return_one() for x in range(10))  # 대괄호[] 를 소괄호() 로 바꿈\n",
    "\n",
    "print(\"[let's print one_generator !]\")\n",
    "for one in one_generator:\n",
    "    print(one)"
   ]
  },
  {
   "cell_type": "code",
   "execution_count": null,
   "id": "supported-blues",
   "metadata": {},
   "outputs": [],
   "source": [
    "# 차이점으로는 [let's make one_generator !] 아래쪽에 아무것도 없다는 것이 있다.\n",
    "# 즉, 실제로 값을 출력하기 전에는 'return_one'함수가 한 번도 실행되지 않았다.   \n",
    "# 이처럼 generator를 사용하면 실제로 one_generator의 값을 사용하는 순간에만 함수를 수행한다.\n",
    "# 즉 값이 실제로 사용되지 않으면 연산 또한 하지 않으므로 시간과 메모리를 절약할 수 있다."
   ]
  }
 ],
 "metadata": {
  "kernelspec": {
   "display_name": "Python 3",
   "language": "python",
   "name": "python3"
  },
  "language_info": {
   "codemirror_mode": {
    "name": "ipython",
    "version": 3
   },
   "file_extension": ".py",
   "mimetype": "text/x-python",
   "name": "python",
   "nbconvert_exporter": "python",
   "pygments_lexer": "ipython3",
   "version": "3.8.7"
  },
  "toc": {
   "base_numbering": 1,
   "nav_menu": {},
   "number_sections": true,
   "sideBar": true,
   "skip_h1_title": false,
   "title_cell": "Table of Contents",
   "title_sidebar": "Contents",
   "toc_cell": false,
   "toc_position": {},
   "toc_section_display": true,
   "toc_window_display": false
  }
 },
 "nbformat": 4,
 "nbformat_minor": 5
}
